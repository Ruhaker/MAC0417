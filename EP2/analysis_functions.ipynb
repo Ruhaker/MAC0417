{
 "cells": [
  {
   "cell_type": "code",
   "execution_count": null,
   "metadata": {},
   "outputs": [],
   "source": [
    "\"\"\"\n",
    "MAC0417 - EP2\n",
    "Nome: Lucas Henrique Bahr Yau\n",
    "NUSP: 9763832\n",
    "\n",
    "IMPORTANTE: apenas a função de normalização foi implementada. As funções de\n",
    "criação dos histogramas NÃO foram implementadas. Não consegui terminá-las a tempo\n",
    "\n",
    "A execução das funções foi feita baseada na seguinte árvore de diretórios:\n",
    "\n",
    "analysis_functions.ipynb\n",
    "\n",
    "augmentedDataset/\n",
    "|---- exp/\n",
    "      |---- <imagens com aplicação da exponencial>\n",
    "      grey/\n",
    "      |---- <imagens convertidas de RGB para escalas de cinza>\n",
    "      log/\n",
    "      |---- <imagens com aplicação do logaritmo>\n",
    "      mean/\n",
    "      |---- <imagens com aplicação do filtro da média>\n",
    "      sum/\n",
    "      |---- <imagens com aplicação do gradiente>\n",
    "\n",
    "normalizedDataset/\n",
    "|---- <imagens com aplicação da normalização>\n",
    "\n",
    "\"\"\"\n",
    "\n",
    "from os import listdir\n",
    "from skimage import io\n",
    "from skimage import exposure\n",
    "\n",
    "grey_imgs = listdir(\"augmentedDataset/grey/\")\n",
    "sum_imgs  = listdir(\"augmentedDataset/sum/\")\n",
    "log_imgs  = listdir(\"augmentedDataset/log/\")\n",
    "exp_imgs  = listdir(\"augmentedDataset/exp/\")\n",
    "mean_imgs = listdir(\"augmentedDataset/mean/\")\n",
    "\n",
    "# Recebe o nome das imagens em escala de cinza e\n",
    "# aplica a normalização por equalização de histogramas\n",
    "def normalize_with_equalization(imgs, folder):\n",
    "    for name in imgs:\n",
    "        img = io.imread(\"augmentedDataset/\" + folder + \"/\" + name)\n",
    "        norm_img = exposure.equalize_hist(img)\n",
    "        new_name = name.replace(\".jpg\", \"_normalizado.jpg\")\n",
    "        io.imsave(\"normalizedDataset/\" + folder + \"/\" + new_name, norm_img)\n",
    "\n",
    "# Criação das imagens normalizadas\n",
    "normalize_with_equalization(grey_imgs, \"grey\")\n",
    "normalize_with_equalization(sum_imgs, \"sum\")\n",
    "normalize_with_equalization(log_imgs, \"log\")\n",
    "normalize_with_equalization(exp_imgs, \"exp\")\n",
    "normalize_with_equalization(mean_imgs, \"mean\")"
   ]
  }
 ],
 "metadata": {
  "kernelspec": {
   "display_name": "Python 3",
   "language": "python",
   "name": "python3"
  },
  "language_info": {
   "codemirror_mode": {
    "name": "ipython",
    "version": 3
   },
   "file_extension": ".py",
   "mimetype": "text/x-python",
   "name": "python",
   "nbconvert_exporter": "python",
   "pygments_lexer": "ipython3",
   "version": "3.6.9"
  }
 },
 "nbformat": 4,
 "nbformat_minor": 2
}
