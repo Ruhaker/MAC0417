{
 "cells": [
  {
   "cell_type": "markdown",
   "metadata": {},
   "source": [
    "# MAC0417 - EP1\n",
    "======================================================\n",
    "### Lucas Henrique Bahr Yau\n",
    "### NUSP: 9763832"
   ]
  },
  {
   "cell_type": "markdown",
   "metadata": {},
   "source": [
    "# Informações"
   ]
  },
  {
   "cell_type": "markdown",
   "metadata": {},
   "source": [
    "Os metadados das imagens estão no nome das próprias imagens. Os nomes estão no seguinte formato:\n",
    "__NomeDaClasse\\_NumeroDoObjeto\\_FundoDaImagem\\_{dentro ou fora de casa}\\_{dia ou noite}.jpg__  \n",
    "\n",
    "3 imagens da classe __caneta__ foram perdidas.\n",
    "\n",
    "Link para a base de dados no Google Drive:  \n",
    "https://drive.google.com/drive/folders/1M6yM634LUi5pQdVB2SK0NCWtfzAyM-FJ?usp=sharing\n",
    "\n",
    "Link para o Github:  \n",
    "https://github.com/Ruhaker/MAC0417\n"
   ]
  },
  {
   "cell_type": "markdown",
   "metadata": {},
   "source": [
    "# Tabela Sumária dos dados"
   ]
  },
  {
   "cell_type": "markdown",
   "metadata": {},
   "source": [
    "## Tabela Global Sumária"
   ]
  },
  {
   "cell_type": "markdown",
   "metadata": {},
   "source": [
    "================================================================================"
   ]
  },
  {
   "cell_type": "markdown",
   "metadata": {},
   "source": [
    "Nome dos atributos  \n",
    "estojo, luva, pincel, tesoura, chavefenda, caneta, colher, prendedor, pendrive, parafuso  \n",
    "\n",
    "Número de classes  \n",
    "10  \n",
    "\n",
    "Número de imagens  \n",
    "357  \n",
    "\n",
    "Tamanho da base (bytes)  \n",
    "270037087  \n",
    "\n",
    "Resolução das imagens  \n",
    "1200 linhas por 1600 colunas"
   ]
  },
  {
   "cell_type": "markdown",
   "metadata": {},
   "source": [
    "============================================================================="
   ]
  },
  {
   "cell_type": "markdown",
   "metadata": {},
   "source": [
    "## Tabela detalhada por classe"
   ]
  },
  {
   "cell_type": "markdown",
   "metadata": {},
   "source": [
    "Estojos variados  \n",
    "3 objetos  \n",
    "3 variações de fundo: branco, marrom e azul  \n",
    "4 variações de iluminação: luz do Sol no dia, tanto fora quanto dentro de casa, e luz artificial de noite, também dentro e fora de casa  \n",
    "3 repetições  \n",
    "36 amostras  \n",
    "\n",
    "Luvas, uma delas sem os dedos  \n",
    "3 objetos  \n",
    "3 variações de fundo: branco, marrom e azul  \n",
    "4 variações de iluminação: luz do Sol no dia, tanto fora quanto dentro de casa, e luz artificial de noite, também dentro e fora de casa  \n",
    "3 repetições  \n",
    "36 amostras  \n",
    "\n",
    "Pincéis variados  \n",
    "3 objetos  \n",
    "3 variações de fundo: branco, marrom e azul  \n",
    "4 variações de iluminação: luz do Sol no dia, tanto fora quanto dentro de casa, e luz artificial de noite, também dentro e fora de casa  \n",
    "3 repetições  \n",
    "36 amostras  \n",
    "\n",
    "Tesouras variadas  \n",
    "3 objetos  \n",
    "3 variações de fundo: branco, marrom e azul  \n",
    "4 variações de iluminação: luz do Sol no dia, tanto fora quanto dentro de casa, e luz artificial de noite, também dentro e fora de casa  \n",
    "3 repetições  \n",
    "36 amostras  \n",
    "\n",
    "Chaves de fenda variadas \n",
    "3 objetos  \n",
    "3 variações de fundo: branco, marrom e azul  \n",
    "4 variações de iluminação: luz do Sol no dia, tanto fora quanto dentro de casa, e luz artificial de noite, também dentro e fora de casa  \n",
    "3 repetições  \n",
    "36 amostras  \n",
    "\n",
    "Canetas variadas  \n",
    "3 objetos  \n",
    "3 variações de fundo: branco, marrom e azul  \n",
    "3 variações de iluminação: luz do Sol no dia, apenas fora de casa, e luz artificial de noite, também dentro e fora de casa  \n",
    "3 repetições  \n",
    "33 amostras  \n",
    "\n",
    "Colheres pequenas variadas  \n",
    "3 objetos  \n",
    "3 variações de fundo: branco, marrom e azul  \n",
    "4 variações de iluminação: luz do Sol no dia, tanto fora quanto dentro de casa, e luz artificial de noite, também dentro e fora de casa  \n",
    "3 repetições  \n",
    "36 amostras  \n",
    "\n",
    "Prendedores de roupa  \n",
    "3 objetos  \n",
    "3 variações de fundo: branco, marrom e azul  \n",
    "4 variações de iluminação: luz do Sol no dia, tanto fora quanto dentro de casa, e luz artificial de noite, também dentro e fora de casa  \n",
    "3 repetições  \n",
    "36 amostras  \n",
    "\n",
    "Pendrives variados  \n",
    "3 objetos  \n",
    "3 variações de fundo: branco, marrom e azul  \n",
    "4 variações de iluminação: luz do Sol no dia, tanto fora quanto dentro de casa, e luz artificial de noite, também dentro e fora de casa  \n",
    "3 repetições  \n",
    "36 amostras  \n",
    "\n",
    "Parafusos variados    \n",
    "3 objetos  \n",
    "3 variações de fundo: branco, marrom e azul  \n",
    "4 variações de iluminação: luz do Sol no dia, tanto fora quanto dentro de casa, e luz artificial de noite, também dentro e fora de casa  \n",
    "3 repetições  \n",
    "36 amostras  "
   ]
  }
 ],
 "metadata": {
  "kernelspec": {
   "display_name": "Python 3",
   "language": "python",
   "name": "python3"
  },
  "language_info": {
   "codemirror_mode": {
    "name": "ipython",
    "version": 3
   },
   "file_extension": ".py",
   "mimetype": "text/x-python",
   "name": "python",
   "nbconvert_exporter": "python",
   "pygments_lexer": "ipython3",
   "version": "3.6.9"
  }
 },
 "nbformat": 4,
 "nbformat_minor": 2
}
